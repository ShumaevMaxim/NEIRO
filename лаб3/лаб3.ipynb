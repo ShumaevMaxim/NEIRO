{
 "cells": [
  {
   "cell_type": "markdown",
   "metadata": {
    "id": "ijG1eveiomIb",
    "toc": true
   },
   "source": [
    "<h1>Table of Contents<span class=\"tocSkip\"></span></h1>\n",
    "<div class=\"toc\"><ul class=\"toc-item\"><li><span><a href=\"#PyTorch.-Основы:-синтаксис,-torch.cuda-и-torch.autograd\" data-toc-modified-id=\"PyTorch.-Основы:-синтаксис,-torch.cuda-и-torch.autograd-1\"><span class=\"toc-item-num\">1&nbsp;&nbsp;</span><b>PyTorch. Основы: синтаксис, torch.cuda и torch.autograd</b></a></span><ul class=\"toc-item\"><li><span><a href=\"#Задача-1\" data-toc-modified-id=\"Задача-1-1.1\"><span class=\"toc-item-num\">1.1&nbsp;&nbsp;</span>Задача 1</a></span></li><li><span><a href=\"#Задача-2\" data-toc-modified-id=\"Задача-2-1.2\"><span class=\"toc-item-num\">1.2&nbsp;&nbsp;</span>Задача 2</a></span></li><li><span><a href=\"#Задача-3\" data-toc-modified-id=\"Задача-3-1.3\"><span class=\"toc-item-num\">1.3&nbsp;&nbsp;</span>Задача 3</a></span></li><li><span><a href=\"#Задача-4\" data-toc-modified-id=\"Задача-4-1.4\"><span class=\"toc-item-num\">1.4&nbsp;&nbsp;</span>Задача 4</a></span></li><li><span><a href=\"#Задача-5\" data-toc-modified-id=\"Задача-5-1.5\"><span class=\"toc-item-num\">1.5&nbsp;&nbsp;</span>Задача 5</a></span></li></ul></li></ul></div>"
   ]
  },
  {
   "cell_type": "markdown",
   "metadata": {
    "id": "zqPnyO9_YJ8t"
   },
   "source": [
    "---"
   ]
  },
  {
   "cell_type": "markdown",
   "metadata": {
    "id": "vcnGdgw_YJ8u"
   },
   "source": [
    "<h2 style=\"text-align: center;\"><b>PyTorch. Основы: синтаксис, torch.cuda и torch.autograd</b></h2>"
   ]
  },
  {
   "cell_type": "markdown",
   "metadata": {
    "id": "-Iv1eX2mYJ8v"
   },
   "source": [
    "<p style=\"align: center;\"><img src=\"https://raw.githubusercontent.com/pytorch/pytorch/master/docs/source/_static/img/pytorch-logo-dark.png\", width=400, height=300></p>"
   ]
  },
  {
   "cell_type": "markdown",
   "metadata": {
    "id": "JlTocWSSomIe"
   },
   "source": [
    "---"
   ]
  },
  {
   "cell_type": "code",
   "execution_count": 1,
   "metadata": {
    "ExecuteTime": {
     "end_time": "2024-04-25T13:13:38.448200Z",
     "start_time": "2024-04-25T13:13:38.443451Z"
    },
    "id": "RtyozNmmYJ89"
   },
   "outputs": [
    {
     "ename": "OSError",
     "evalue": "[WinError 126] Не найден указанный модуль. Error loading \"C:\\Users\\Максим\\AppData\\Roaming\\Python\\Python311\\site-packages\\torch\\lib\\shm.dll\" or one of its dependencies.",
     "output_type": "error",
     "traceback": [
      "\u001b[1;31m---------------------------------------------------------------------------\u001b[0m",
      "\u001b[1;31mOSError\u001b[0m                                   Traceback (most recent call last)",
      "Cell \u001b[1;32mIn[1], line 1\u001b[0m\n\u001b[1;32m----> 1\u001b[0m \u001b[38;5;28;01mimport\u001b[39;00m \u001b[38;5;21;01mtorch\u001b[39;00m\n\u001b[0;32m      2\u001b[0m \u001b[38;5;28;01mimport\u001b[39;00m \u001b[38;5;21;01mmatplotlib\u001b[39;00m\u001b[38;5;21;01m.\u001b[39;00m\u001b[38;5;21;01mpyplot\u001b[39;00m \u001b[38;5;28;01mas\u001b[39;00m \u001b[38;5;21;01mplt\u001b[39;00m\n",
      "File \u001b[1;32m~\\AppData\\Roaming\\Python\\Python311\\site-packages\\torch\\__init__.py:141\u001b[0m\n\u001b[0;32m    139\u001b[0m                 err \u001b[38;5;241m=\u001b[39m ctypes\u001b[38;5;241m.\u001b[39mWinError(ctypes\u001b[38;5;241m.\u001b[39mget_last_error())\n\u001b[0;32m    140\u001b[0m                 err\u001b[38;5;241m.\u001b[39mstrerror \u001b[38;5;241m+\u001b[39m\u001b[38;5;241m=\u001b[39m \u001b[38;5;124mf\u001b[39m\u001b[38;5;124m'\u001b[39m\u001b[38;5;124m Error loading \u001b[39m\u001b[38;5;124m\"\u001b[39m\u001b[38;5;132;01m{\u001b[39;00mdll\u001b[38;5;132;01m}\u001b[39;00m\u001b[38;5;124m\"\u001b[39m\u001b[38;5;124m or one of its dependencies.\u001b[39m\u001b[38;5;124m'\u001b[39m\n\u001b[1;32m--> 141\u001b[0m                 \u001b[38;5;28;01mraise\u001b[39;00m err\n\u001b[0;32m    143\u001b[0m     kernel32\u001b[38;5;241m.\u001b[39mSetErrorMode(prev_error_mode)\n\u001b[0;32m    146\u001b[0m \u001b[38;5;28;01mdef\u001b[39;00m \u001b[38;5;21m_preload_cuda_deps\u001b[39m(lib_folder, lib_name):\n",
      "\u001b[1;31mOSError\u001b[0m: [WinError 126] Не найден указанный модуль. Error loading \"C:\\Users\\Максим\\AppData\\Roaming\\Python\\Python311\\site-packages\\torch\\lib\\shm.dll\" or one of its dependencies."
     ]
    }
   ],
   "source": [
    "import torch\n",
    "import matplotlib.pyplot as plt"
   ]
  },
  {
   "cell_type": "markdown",
   "metadata": {
    "id": "ny4-Qi2wYJ-6"
   },
   "source": [
    "### Задача 1"
   ]
  },
  {
   "cell_type": "markdown",
   "metadata": {
    "id": "IWxlFq0bYJ-_"
   },
   "source": [
    "1). Создайте два вещественных тензора: `a` размером (3, 4) и `b` размером (12,)   \n",
    "2). Создайте тензор `c`, являющийся тензором `b`, но размера (2, 2, 3)  \n",
    "3). Выведите первый столбец матрицы `a` с помощью индексации"
   ]
  },
  {
   "cell_type": "code",
   "execution_count": 2,
   "metadata": {
    "ExecuteTime": {
     "end_time": "2024-04-25T13:36:20.925745Z",
     "start_time": "2024-04-25T13:36:20.916030Z"
    },
    "id": "3oxZuk3yYJ_A",
    "outputId": "44e7947e-7784-4753-f5ec-9fb5ab65e657"
   },
   "outputs": [
    {
     "name": "stdout",
     "output_type": "stream",
     "text": [
      "tensor([[[ 1.,  2.,  3.],\n",
      "         [ 4.,  5.,  6.]],\n",
      "\n",
      "        [[ 7.,  8.,  9.],\n",
      "         [10., 11., 12.]]])\n",
      "tensor([1., 2., 3.])\n"
     ]
    }
   ],
   "source": [
    "a = torch.FloatTensor([[1, 1, 1, 1], [2, 2, 2, 2], [3, 3, 3, 3]])\n",
    "b = torch.FloatTensor([1, 2, 3, 4, 5, 6, 7, 8, 9, 10, 11, 12])\n",
    "\n",
    "c = b.view(2, 2, 3)\n",
    "print(c)\n",
    "\n",
    "print(a[:, 0])"
   ]
  },
  {
   "cell_type": "markdown",
   "metadata": {
    "id": "D2IP_FrKYKAA"
   },
   "source": [
    "### Задача 2"
   ]
  },
  {
   "cell_type": "markdown",
   "metadata": {
    "id": "tBZFbSYQYKAA"
   },
   "source": [
    "1). Создайте два вещественных тензора: `a` размером (5, 2) и `b` размером (1,10)   \n",
    "2). Создайте тензор `c`, являющийся тензором `b`, но размера (5, 2)  \n",
    "3). Произведите все арифметические операции с тензорами `a` и `c`"
   ]
  },
  {
   "cell_type": "code",
   "execution_count": 3,
   "metadata": {
    "ExecuteTime": {
     "end_time": "2024-04-25T13:42:30.738832Z",
     "start_time": "2024-04-25T13:42:30.724353Z"
    },
    "id": "hzs2bH3GYKAB",
    "outputId": "72a5ce0f-051a-47c4-f2a3-651c264ed62d"
   },
   "outputs": [
    {
     "name": "stdout",
     "output_type": "stream",
     "text": [
      "tensor([[ 1.,  2.],\n",
      "        [ 3.,  4.],\n",
      "        [ 5.,  6.],\n",
      "        [ 7.,  8.],\n",
      "        [ 9., 10.]])\n",
      "tensor([[ 2.,  3.],\n",
      "        [ 5.,  6.],\n",
      "        [ 8.,  9.],\n",
      "        [11., 12.],\n",
      "        [14., 15.]])\n",
      "tensor([[ 1.,  2.],\n",
      "        [ 6.,  8.],\n",
      "        [15., 18.],\n",
      "        [28., 32.],\n",
      "        [45., 50.]])\n",
      "tensor([[1.0000, 0.5000],\n",
      "        [0.6667, 0.5000],\n",
      "        [0.6000, 0.5000],\n",
      "        [0.5714, 0.5000],\n",
      "        [0.5556, 0.5000]])\n",
      "tensor([[ 0., -1.],\n",
      "        [-1., -2.],\n",
      "        [-2., -3.],\n",
      "        [-3., -4.],\n",
      "        [-4., -5.]])\n"
     ]
    }
   ],
   "source": [
    "a = torch.FloatTensor([[1, 1], [2, 2], [3, 3], [4, 4], [5, 5]])\n",
    "b = torch.FloatTensor([[1, 2, 3, 4, 5, 6, 7, 8, 9, 10]])\n",
    "\n",
    "c = b.view(5, 2)\n",
    "print(c)\n",
    "\n",
    "print(a.add(c))\n",
    "print(a.mul(c))\n",
    "print(a.div(c))\n",
    "print(a.sub(c))"
   ]
  },
  {
   "cell_type": "markdown",
   "metadata": {
    "id": "rIaroFO6YKBT"
   },
   "source": [
    "### Задача 3"
   ]
  },
  {
   "cell_type": "markdown",
   "metadata": {
    "id": "GfLHVvKvYKBT"
   },
   "source": [
    "1). Создайте тензор *целых чисел* `images` размерности (100, 200, 200, 3) (можно интерпретировать это как 100 картинок размера 200х200 с тремя цветовыми каналами, то есть 100 цветных изображений 200х200). Заполните его нулями  \n",
    "\n",
    "2). Сделайте так, чтобы у $i$-ой по порядку картинки была нарисована белая полоса толщиной два пикселя в строках, которые соответствуют номеру картинки. Например, у 3-ей по порядку картинки белая полоска будет занимать 6 и 7 строки, у 99 -- 198 и 199. Сделать белую строку можно, записав в ячейки тензора число 255 (по всем трём каналам). Выведите пару примеров с помощоью `pylot`  \n",
    "\n",
    "3). Посчитайте среднее тензора `images` по 1-ой оси (по сути - средняя картинка), умножьте полученный тензор на 70. Нарисуйте с помощью `pyplot`, должна получиться серая картинка (при взятии среднего нужно привести тензор к float с помощью `.float()`, при отрисовке обратно к int с помощью `.int()`)"
   ]
  },
  {
   "cell_type": "code",
   "execution_count": 7,
   "metadata": {
    "ExecuteTime": {
     "end_time": "2024-04-25T14:12:05.409206Z",
     "start_time": "2024-04-25T14:12:05.083892Z"
    },
    "id": "pZVGHEQQYKBU",
    "outputId": "ea8fb1e3-b62f-491c-d260-54f64055a65c"
   },
   "outputs": [
    {
     "data": {
      "text/plain": [
       "<matplotlib.image.AxesImage at 0x1c137f8b560>"
      ]
     },
     "execution_count": 7,
     "metadata": {},
     "output_type": "execute_result"
    },
    {
     "data": {
      "image/png": "[encoded data removed]",
      "text/plain": [
       "<Figure size 640x480 with 1 Axes>"
      ]
     },
     "metadata": {},
     "output_type": "display_data"
    }
   ],
   "source": [
    "from matplotlib import pyplot as plt\n",
    "\n",
    "images = torch.IntTensor(100, 200, 200, 3).zero_()\n",
    "\n",
    "for i in range(100):\n",
    "    images[i, i*2:i*2+2, :, :] = torch.full((2, 200, 3), 255)\n",
    "\n",
    "plt.imshow(images[95])"
   ]
  },
  {
   "cell_type": "code",
   "execution_count": 8,
   "metadata": {
    "ExecuteTime": {
     "end_time": "2024-04-25T14:20:01.818639Z",
     "start_time": "2024-04-25T14:20:01.544399Z"
    },
    "id": "8G_-YCvJomIi",
    "outputId": "f4728235-91bb-4200-b854-6f3c91eda622"
   },
   "outputs": [
    {
     "data": {
      "text/plain": [
       "<matplotlib.image.AxesImage at 0x1c13a1649e0>"
      ]
     },
     "execution_count": 8,
     "metadata": {},
     "output_type": "execute_result"
    },
    {
     "data": {
      "image/png": "[encoded data removed]",
      "text/plain": [
       "<Figure size 640x480 with 1 Axes>"
      ]
     },
     "metadata": {},
     "output_type": "display_data"
    }
   ],
   "source": [
    "images = images.float().mean(0) * 70\n",
    "plt.imshow(images.int())"
   ]
  },
  {
   "cell_type": "markdown",
   "metadata": {
    "id": "1ALNkrzMYKCY"
   },
   "source": [
    "### Задача 4"
   ]
  },
  {
   "cell_type": "markdown",
   "metadata": {
    "id": "7-KS81rUYKCY"
   },
   "source": [
    "Перейдите на Google Colaboratory, чтобы работать с GPU. Загрузите туда этот ноутбук (Upload notebook)\n",
    "В Colab нажмите в меню сверху: Runtime -> Change Runtime Type -> GPU, где изначально стоит None\n",
    "Объявите тензор a размера (2, 3, 4) и тензор b размера (1, 8, 3) на GPU, иницилизируйте их случайно равномерно (.uniform_())\n",
    "Затем измените форму тензора b, чтобы она совпадала с формой тензора a, получите тензор c\n",
    "Переместите c на CPU, переместите a на CPU\n",
    "Оберните их в Variable()\n",
    "Объявите тензор L = torch.mean((c - a) ** 2) и посчитайте градиент L по c ( то есть  ∂𝐿∂𝑐)\n",
    "\n",
    "Выведите градиент L по c"
   ]
  },
  {
   "cell_type": "code",
   "execution_count": 1,
   "metadata": {
    "colab": {
     "base_uri": "https://localhost:8080/"
    },
    "id": "mNy2bOcnoxX2",
    "outputId": "f4bbd5f4-cbe4-47c6-db51-0e54f18fc8a7"
   },
   "outputs": [
    {
     "data": {
      "text/plain": [
       "tensor([[[-0.0451, -0.0319,  0.0217,  0.0480],\n",
       "         [-0.0054,  0.0379, -0.0285, -0.0280],\n",
       "         [ 0.0310,  0.0383, -0.0536, -0.0194]],\n",
       "\n",
       "        [[ 0.0182, -0.0571,  0.0401, -0.0202],\n",
       "         [ 0.0614,  0.0232,  0.0663, -0.0085],\n",
       "         [-0.0375, -0.0584, -0.0068, -0.0439]]], device='cuda:0')"
      ]
     },
     "execution_count": 1,
     "metadata": {},
     "output_type": "execute_result"
    }
   ],
   "source": [
    "import torch\n",
    "from torch.autograd import Variable\n",
    "\n",
    "a = torch.FloatTensor(2, 3, 4).uniform_()\n",
    "b = torch.FloatTensor(1, 8, 3).uniform_()\n",
    "\n",
    "device = torch.device(\"cuda:0\" if torch.cuda.is_available() else \"cpu\")\n",
    "\n",
    "c = b.view(a.shape)\n",
    "\n",
    "c = c.to(device)\n",
    "a = a.to(device)\n",
    "\n",
    "c = Variable(c, requires_grad=True)\n",
    "a = Variable(a, requires_grad=True)\n",
    "\n",
    "L = torch.mean((c - a) ** 2)\n",
    "L.backward()\n",
    "c.grad"
   ]
  },
  {
   "cell_type": "code",
   "execution_count": 2,
   "metadata": {
    "colab": {
     "base_uri": "https://localhost:8080/"
    },
    "id": "4eMegw6B6hSh",
    "outputId": "a6756530-76fc-497b-a3f5-7762bc71b499"
   },
   "outputs": [
    {
     "data": {
      "text/plain": [
       "tensor([[[0.3959, 0.5419, 0.2974, 0.7563],\n",
       "         [0.7988, 0.5404, 0.0262, 0.2992],\n",
       "         [0.4636, 0.7108, 0.1397, 0.6196]],\n",
       "\n",
       "        [[0.7805, 0.1559, 0.7109, 0.1649],\n",
       "         [0.7616, 0.8731, 0.8073, 0.4446],\n",
       "         [0.0641, 0.2604, 0.8368, 0.1596]]], device='cuda:0')"
      ]
     },
     "execution_count": 2,
     "metadata": {},
     "output_type": "execute_result"
    }
   ],
   "source": [
    "c.data"
   ]
  },
  {
   "cell_type": "markdown",
   "metadata": {
    "id": "9DXpZVZjomIi"
   },
   "source": [
    "### Задача 5"
   ]
  },
  {
   "cell_type": "markdown",
   "metadata": {
    "id": "p3qnBLCTomIi"
   },
   "source": [
    "Доработайте многослойную нейронную сеть из файла \"6_3 mlp pytorch tasks\"."
   ]
  }
 ],
 "metadata": {
  "accelerator": "GPU",
  "colab": {
   "gpuType": "T4",
   "provenance": []
  },
  "kernelspec": {
   "display_name": "Python 3 (ipykernel)",
   "language": "python",
   "name": "python3"
  },
  "language_info": {
   "codemirror_mode": {
    "name": "ipython",
    "version": 3
   },
   "file_extension": ".py",
   "mimetype": "text/x-python",
   "name": "python",
   "nbconvert_exporter": "python",
   "pygments_lexer": "ipython3",
   "version": "3.11.7"
  },
  "toc": {
   "base_numbering": 1,
   "nav_menu": {},
   "number_sections": true,
   "sideBar": true,
   "skip_h1_title": false,
   "title_cell": "Table of Contents",
   "title_sidebar": "Contents",
   "toc_cell": true,
   "toc_position": {},
   "toc_section_display": true,
   "toc_window_display": false
  }
 },
 "nbformat": 4,
 "nbformat_minor": 4
}
